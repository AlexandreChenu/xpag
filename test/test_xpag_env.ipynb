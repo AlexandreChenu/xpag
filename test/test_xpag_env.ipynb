{
 "cells": [
  {
   "cell_type": "code",
   "execution_count": 1,
   "id": "1b3c9f05",
   "metadata": {},
   "outputs": [],
   "source": [
    "import os\n",
    "import jax\n",
    "import flax"
   ]
  },
  {
   "cell_type": "code",
   "execution_count": 2,
   "id": "f9b94c5d",
   "metadata": {},
   "outputs": [
    {
     "name": "stderr",
     "output_type": "stream",
     "text": [
      "WARNING:absl:No GPU/TPU found, falling back to CPU. (Set TF_CPP_MIN_LOG_LEVEL=0 and rerun for more info.)\n"
     ]
    }
   ],
   "source": [
    "import xpag\n",
    "from xpag.wrappers import gym_vec_env\n",
    "from xpag.buffers import DefaultEpisodicBuffer\n",
    "from xpag.samplers import DefaultEpisodicSampler, HER\n",
    "from xpag.goalsetters import DefaultGoalSetter\n",
    "from xpag.agents import SAC\n",
    "from xpag.tools import learn\n",
    "from xpag.tools import mujoco_notebook_replay"
   ]
  },
  {
   "cell_type": "code",
   "execution_count": 3,
   "id": "5bf3cf02",
   "metadata": {},
   "outputs": [
    {
     "name": "stdout",
     "output_type": "stream",
     "text": [
      "REGISTERING DubinsMazeEnv\n",
      "REGISTERING DubinsMazeEnv\n"
     ]
    }
   ],
   "source": [
    "from xpag.envs import *"
   ]
  },
  {
   "cell_type": "code",
   "execution_count": 4,
   "id": "70980e51",
   "metadata": {},
   "outputs": [],
   "source": [
    "import copy\n",
    "import numpy as np"
   ]
  },
  {
   "cell_type": "code",
   "execution_count": 15,
   "id": "c4bd0330",
   "metadata": {},
   "outputs": [
    {
     "ename": "TypeError",
     "evalue": "__init__() missing 5 required positional arguments: 'L_full_demonstration', 'L_states', 'L_inner_states', 'L_goals', and 'L_budgets'",
     "output_type": "error",
     "traceback": [
      "\u001b[0;31m---------------------------------------------------------------------------\u001b[0m",
      "\u001b[0;31mTypeError\u001b[0m                                 Traceback (most recent call last)",
      "Input \u001b[0;32mIn [15]\u001b[0m, in \u001b[0;36m<cell line: 2>\u001b[0;34m()\u001b[0m\n\u001b[1;32m      1\u001b[0m num_envs \u001b[38;5;241m=\u001b[39m \u001b[38;5;241m1\u001b[39m  \u001b[38;5;66;03m# the number of rollouts in parallel during training\u001b[39;00m\n\u001b[0;32m----> 2\u001b[0m env, eval_env, env_info \u001b[38;5;241m=\u001b[39m \u001b[43mgym_vec_env\u001b[49m\u001b[43m(\u001b[49m\u001b[38;5;124;43m'\u001b[39;49m\u001b[38;5;124;43mDubinsMazeEnvGCPHERSB3-v0\u001b[39;49m\u001b[38;5;124;43m'\u001b[39;49m\u001b[43m,\u001b[49m\u001b[43m \u001b[49m\u001b[43mnum_envs\u001b[49m\u001b[43m)\u001b[49m\n",
      "File \u001b[0;32m~/Desktop/PhD/github/xpag/xpag/wrappers/gym_vec_env.py:109\u001b[0m, in \u001b[0;36mgym_vec_env\u001b[0;34m(env_name, num_envs)\u001b[0m\n\u001b[1;32m    108\u001b[0m \u001b[38;5;28;01mdef\u001b[39;00m \u001b[38;5;21mgym_vec_env\u001b[39m(env_name, num_envs):\n\u001b[0;32m--> 109\u001b[0m     env, env_info \u001b[38;5;241m=\u001b[39m \u001b[43mgym_vec_env_\u001b[49m\u001b[43m(\u001b[49m\u001b[43menv_name\u001b[49m\u001b[43m,\u001b[49m\u001b[43m \u001b[49m\u001b[43mnum_envs\u001b[49m\u001b[43m)\u001b[49m\n\u001b[1;32m    110\u001b[0m     eval_env, _ \u001b[38;5;241m=\u001b[39m gym_vec_env_(env_name, \u001b[38;5;241m1\u001b[39m)\n\u001b[1;32m    111\u001b[0m     \u001b[38;5;28;01mreturn\u001b[39;00m env, eval_env, env_info\n",
      "File \u001b[0;32m~/Desktop/PhD/github/xpag/xpag/wrappers/gym_vec_env.py:67\u001b[0m, in \u001b[0;36mgym_vec_env_\u001b[0;34m(env_name, num_envs)\u001b[0m\n\u001b[1;32m     65\u001b[0m     env_type \u001b[38;5;241m=\u001b[39m \u001b[38;5;124m\"\u001b[39m\u001b[38;5;124mGym\u001b[39m\u001b[38;5;124m\"\u001b[39m\n\u001b[1;32m     66\u001b[0m \u001b[38;5;28;01melse\u001b[39;00m:\n\u001b[0;32m---> 67\u001b[0m     dummy_env \u001b[38;5;241m=\u001b[39m \u001b[43mgym\u001b[49m\u001b[38;5;241;43m.\u001b[39;49m\u001b[43mmake\u001b[49m\u001b[43m(\u001b[49m\u001b[43menv_name\u001b[49m\u001b[43m)\u001b[49m\n\u001b[1;32m     68\u001b[0m     \u001b[38;5;66;03m# We force the env to have a standard gym time limit:\u001b[39;00m\n\u001b[1;32m     69\u001b[0m     \u001b[38;5;28;01massert\u001b[39;00m (\n\u001b[1;32m     70\u001b[0m         \u001b[38;5;28mhasattr\u001b[39m(dummy_env\u001b[38;5;241m.\u001b[39mspec, \u001b[38;5;124m\"\u001b[39m\u001b[38;5;124mmax_episode_steps\u001b[39m\u001b[38;5;124m\"\u001b[39m)\n\u001b[1;32m     71\u001b[0m         \u001b[38;5;129;01mand\u001b[39;00m dummy_env\u001b[38;5;241m.\u001b[39mspec\u001b[38;5;241m.\u001b[39mmax_episode_steps \u001b[38;5;129;01mis\u001b[39;00m \u001b[38;5;129;01mnot\u001b[39;00m \u001b[38;5;28;01mNone\u001b[39;00m\n\u001b[1;32m     72\u001b[0m     ), \u001b[38;5;124m\"\u001b[39m\u001b[38;5;124mOnly allowing gym envs with time limit (spec.max_episode_steps).\u001b[39m\u001b[38;5;124m\"\u001b[39m\n",
      "File \u001b[0;32m~/opt/anaconda3/envs/xpag_env/lib/python3.9/site-packages/gym/envs/registration.py:676\u001b[0m, in \u001b[0;36mmake\u001b[0;34m(id, **kwargs)\u001b[0m\n\u001b[1;32m    675\u001b[0m \u001b[38;5;28;01mdef\u001b[39;00m \u001b[38;5;21mmake\u001b[39m(\u001b[38;5;28mid\u001b[39m: \u001b[38;5;28mstr\u001b[39m, \u001b[38;5;241m*\u001b[39m\u001b[38;5;241m*\u001b[39mkwargs) \u001b[38;5;241m-\u001b[39m\u001b[38;5;241m>\u001b[39m \u001b[38;5;124m\"\u001b[39m\u001b[38;5;124mEnv\u001b[39m\u001b[38;5;124m\"\u001b[39m:\n\u001b[0;32m--> 676\u001b[0m     \u001b[38;5;28;01mreturn\u001b[39;00m \u001b[43mregistry\u001b[49m\u001b[38;5;241;43m.\u001b[39;49m\u001b[43mmake\u001b[49m\u001b[43m(\u001b[49m\u001b[38;5;28;43mid\u001b[39;49m\u001b[43m,\u001b[49m\u001b[43m \u001b[49m\u001b[38;5;241;43m*\u001b[39;49m\u001b[38;5;241;43m*\u001b[39;49m\u001b[43mkwargs\u001b[49m\u001b[43m)\u001b[49m\n",
      "File \u001b[0;32m~/opt/anaconda3/envs/xpag_env/lib/python3.9/site-packages/gym/envs/registration.py:520\u001b[0m, in \u001b[0;36mEnvRegistry.make\u001b[0;34m(self, path, **kwargs)\u001b[0m\n\u001b[1;32m    518\u001b[0m spec \u001b[38;5;241m=\u001b[39m \u001b[38;5;28mself\u001b[39m\u001b[38;5;241m.\u001b[39mspec(path)\n\u001b[1;32m    519\u001b[0m \u001b[38;5;66;03m# Construct the environment\u001b[39;00m\n\u001b[0;32m--> 520\u001b[0m \u001b[38;5;28;01mreturn\u001b[39;00m \u001b[43mspec\u001b[49m\u001b[38;5;241;43m.\u001b[39;49m\u001b[43mmake\u001b[49m\u001b[43m(\u001b[49m\u001b[38;5;241;43m*\u001b[39;49m\u001b[38;5;241;43m*\u001b[39;49m\u001b[43mkwargs\u001b[49m\u001b[43m)\u001b[49m\n",
      "File \u001b[0;32m~/opt/anaconda3/envs/xpag_env/lib/python3.9/site-packages/gym/envs/registration.py:140\u001b[0m, in \u001b[0;36mEnvSpec.make\u001b[0;34m(self, **kwargs)\u001b[0m\n\u001b[1;32m    138\u001b[0m \u001b[38;5;28;01melse\u001b[39;00m:\n\u001b[1;32m    139\u001b[0m     \u001b[38;5;28mcls\u001b[39m \u001b[38;5;241m=\u001b[39m load(\u001b[38;5;28mself\u001b[39m\u001b[38;5;241m.\u001b[39mentry_point)\n\u001b[0;32m--> 140\u001b[0m     env \u001b[38;5;241m=\u001b[39m \u001b[38;5;28;43mcls\u001b[39;49m\u001b[43m(\u001b[49m\u001b[38;5;241;43m*\u001b[39;49m\u001b[38;5;241;43m*\u001b[39;49m\u001b[43m_kwargs\u001b[49m\u001b[43m)\u001b[49m\n\u001b[1;32m    142\u001b[0m \u001b[38;5;66;03m# Make the environment aware of which spec it came from.\u001b[39;00m\n\u001b[1;32m    143\u001b[0m spec \u001b[38;5;241m=\u001b[39m copy\u001b[38;5;241m.\u001b[39mdeepcopy(\u001b[38;5;28mself\u001b[39m)\n",
      "\u001b[0;31mTypeError\u001b[0m: __init__() missing 5 required positional arguments: 'L_full_demonstration', 'L_states', 'L_inner_states', 'L_goals', and 'L_budgets'"
     ]
    }
   ],
   "source": [
    "num_envs = 1  # the number of rollouts in parallel during training\n",
    "env, eval_env, env_info = gym_vec_env('DubinsMazeEnvGCPHERSB3-v0', num_envs)"
   ]
  },
  {
   "cell_type": "code",
   "execution_count": 5,
   "id": "a8c59e26",
   "metadata": {},
   "outputs": [
    {
     "name": "stdout",
     "output_type": "stream",
     "text": [
      "MAZE setting random seed  0\n"
     ]
    },
    {
     "name": "stderr",
     "output_type": "stream",
     "text": [
      "/Users/chenu/opt/anaconda3/envs/xpag_env/lib/python3.9/site-packages/gym/spaces/box.py:84: UserWarning: \u001b[33mWARN: Box bound precision lowered by casting to float32\u001b[0m\n",
      "  logger.warn(f\"Box bound precision lowered by casting to {self.dtype}\")\n"
     ]
    }
   ],
   "source": [
    "env = gym.make('DubinsMazeEnv-v0')"
   ]
  },
  {
   "cell_type": "code",
   "execution_count": 6,
   "id": "86a00518",
   "metadata": {},
   "outputs": [
    {
     "data": {
      "text/plain": [
       "30"
      ]
     },
     "execution_count": 6,
     "metadata": {},
     "output_type": "execute_result"
    }
   ],
   "source": [
    "env.max_episode_steps"
   ]
  },
  {
   "cell_type": "code",
   "execution_count": 7,
   "id": "fb166437",
   "metadata": {},
   "outputs": [
    {
     "data": {
      "text/plain": [
       "EnvSpec(entry_point='xpag.envs.dubins_mazeenv.mazeenv_cst_speed:DubinsMazeEnv', reward_threshold=None, nondeterministic=False, max_episode_steps=30, order_enforce=True, kwargs={}, namespace=None, name='DubinsMazeEnv', version=0)"
      ]
     },
     "execution_count": 7,
     "metadata": {},
     "output_type": "execute_result"
    }
   ],
   "source": [
    "env.spec"
   ]
  },
  {
   "cell_type": "code",
   "execution_count": 8,
   "id": "31e47b1a",
   "metadata": {},
   "outputs": [
    {
     "name": "stderr",
     "output_type": "stream",
     "text": [
      "objc[30605]: Class GLFWApplicationDelegate is implemented in both /Users/chenu/.mujoco/mujoco200/bin/libglfw.3.dylib (0x15088d778) and /usr/local/Cellar/glfw/3.3.2/lib/libglfw.3.3.dylib (0x15092cf10). One of the two will be used. Which one is undefined.\n",
      "objc[30605]: Class GLFWWindowDelegate is implemented in both /Users/chenu/.mujoco/mujoco200/bin/libglfw.3.dylib (0x15088d700) and /usr/local/Cellar/glfw/3.3.2/lib/libglfw.3.3.dylib (0x15092cf38). One of the two will be used. Which one is undefined.\n",
      "objc[30605]: Class GLFWContentView is implemented in both /Users/chenu/.mujoco/mujoco200/bin/libglfw.3.dylib (0x15088d7a0) and /usr/local/Cellar/glfw/3.3.2/lib/libglfw.3.3.dylib (0x15092cf88). One of the two will be used. Which one is undefined.\n",
      "objc[30605]: Class GLFWWindow is implemented in both /Users/chenu/.mujoco/mujoco200/bin/libglfw.3.dylib (0x15088d818) and /usr/local/Cellar/glfw/3.3.2/lib/libglfw.3.3.dylib (0x15092d000). One of the two will be used. Which one is undefined.\n"
     ]
    }
   ],
   "source": [
    "env_hc = gym.make('HalfCheetah-v3')"
   ]
  },
  {
   "cell_type": "code",
   "execution_count": 9,
   "id": "418c5183",
   "metadata": {},
   "outputs": [
    {
     "data": {
      "text/plain": [
       "EnvSpec(entry_point='gym.envs.mujoco.half_cheetah_v3:HalfCheetahEnv', reward_threshold=4800.0, nondeterministic=False, max_episode_steps=1000, order_enforce=True, kwargs={}, namespace=None, name='HalfCheetah', version=3)"
      ]
     },
     "execution_count": 9,
     "metadata": {},
     "output_type": "execute_result"
    }
   ],
   "source": [
    "env_hc.spec"
   ]
  },
  {
   "cell_type": "code",
   "execution_count": 8,
   "id": "bc4ffa01",
   "metadata": {},
   "outputs": [
    {
     "name": "stdout",
     "output_type": "stream",
     "text": [
      "MAZE setting random seed  0\n",
      "MAZE setting random seed  0\n"
     ]
    },
    {
     "name": "stderr",
     "output_type": "stream",
     "text": [
      "WARNING:absl:No GPU/TPU found, falling back to CPU. (Set TF_CPP_MIN_LOG_LEVEL=0 and rerun for more info.)\n",
      "Process Worker<AsyncVectorEnv>-0:\n",
      "Traceback (most recent call last):\n",
      "  File \"/Users/chenu/opt/anaconda3/envs/xpag_env/lib/python3.9/multiprocessing/process.py\", line 315, in _bootstrap\n",
      "    self.run()\n",
      "  File \"/Users/chenu/opt/anaconda3/envs/xpag_env/lib/python3.9/multiprocessing/process.py\", line 108, in run\n",
      "    self._target(*self._args, **self._kwargs)\n",
      "  File \"/Users/chenu/Desktop/PhD/github/xpag/xpag/wrappers/gym_vec_env.py\", line 152, in _worker_shared_memory_no_auto_reset\n",
      "    env = env_fn()\n",
      "  File \"/Users/chenu/opt/anaconda3/envs/xpag_env/lib/python3.9/site-packages/gym/vector/utils/misc.py\", line 22, in __call__\n",
      "    return self.fn()\n",
      "  File \"/Users/chenu/Desktop/PhD/github/xpag/xpag/wrappers/gym_vec_env.py\", line 75, in <lambda>\n",
      "    [lambda: ResetDoneWrapper(gym.make(env_name))] * num_envs,\n",
      "  File \"/Users/chenu/opt/anaconda3/envs/xpag_env/lib/python3.9/site-packages/gym/envs/registration.py\", line 676, in make\n",
      "    return registry.make(id, **kwargs)\n",
      "  File \"/Users/chenu/opt/anaconda3/envs/xpag_env/lib/python3.9/site-packages/gym/envs/registration.py\", line 490, in make\n",
      "    versions = self.env_specs.versions(namespace, name)\n",
      "  File \"/Users/chenu/opt/anaconda3/envs/xpag_env/lib/python3.9/site-packages/gym/envs/registration.py\", line 220, in versions\n",
      "    self._assert_name_exists(namespace, name)\n",
      "  File \"/Users/chenu/opt/anaconda3/envs/xpag_env/lib/python3.9/site-packages/gym/envs/registration.py\", line 297, in _assert_name_exists\n",
      "    raise error.NameNotFound(message)\n",
      "gym.error.NameNotFound: Environment `DubinsMazeEnv` doesn't exist.\n"
     ]
    },
    {
     "ename": "EOFError",
     "evalue": "",
     "output_type": "error",
     "traceback": [
      "\u001b[0;31m---------------------------------------------------------------------------\u001b[0m",
      "\u001b[0;31mEOFError\u001b[0m                                  Traceback (most recent call last)",
      "Input \u001b[0;32mIn [8]\u001b[0m, in \u001b[0;36m<cell line: 2>\u001b[0;34m()\u001b[0m\n\u001b[1;32m      1\u001b[0m num_envs \u001b[38;5;241m=\u001b[39m \u001b[38;5;241m1\u001b[39m  \u001b[38;5;66;03m# the number of rollouts in parallel during training\u001b[39;00m\n\u001b[0;32m----> 2\u001b[0m env, eval_env, env_info \u001b[38;5;241m=\u001b[39m \u001b[43mgym_vec_env\u001b[49m\u001b[43m(\u001b[49m\u001b[38;5;124;43m'\u001b[39;49m\u001b[38;5;124;43mDubinsMazeEnv-v0\u001b[39;49m\u001b[38;5;124;43m'\u001b[39;49m\u001b[43m,\u001b[49m\u001b[43m \u001b[49m\u001b[43mnum_envs\u001b[49m\u001b[43m)\u001b[49m\n",
      "File \u001b[0;32m~/Desktop/PhD/github/xpag/xpag/wrappers/gym_vec_env.py:109\u001b[0m, in \u001b[0;36mgym_vec_env\u001b[0;34m(env_name, num_envs)\u001b[0m\n\u001b[1;32m    108\u001b[0m \u001b[38;5;28;01mdef\u001b[39;00m \u001b[38;5;21mgym_vec_env\u001b[39m(env_name, num_envs):\n\u001b[0;32m--> 109\u001b[0m     env, env_info \u001b[38;5;241m=\u001b[39m \u001b[43mgym_vec_env_\u001b[49m\u001b[43m(\u001b[49m\u001b[43menv_name\u001b[49m\u001b[43m,\u001b[49m\u001b[43m \u001b[49m\u001b[43mnum_envs\u001b[49m\u001b[43m)\u001b[49m\n\u001b[1;32m    110\u001b[0m     eval_env, _ \u001b[38;5;241m=\u001b[39m gym_vec_env_(env_name, \u001b[38;5;241m1\u001b[39m)\n\u001b[1;32m    111\u001b[0m     \u001b[38;5;28;01mreturn\u001b[39;00m env, eval_env, env_info\n",
      "File \u001b[0;32m~/Desktop/PhD/github/xpag/xpag/wrappers/gym_vec_env.py:74\u001b[0m, in \u001b[0;36mgym_vec_env_\u001b[0;34m(env_name, num_envs)\u001b[0m\n\u001b[1;32m     68\u001b[0m \u001b[38;5;66;03m# We force the env to have a standard gym time limit:\u001b[39;00m\n\u001b[1;32m     69\u001b[0m \u001b[38;5;28;01massert\u001b[39;00m (\n\u001b[1;32m     70\u001b[0m     \u001b[38;5;28mhasattr\u001b[39m(dummy_env\u001b[38;5;241m.\u001b[39mspec, \u001b[38;5;124m\"\u001b[39m\u001b[38;5;124mmax_episode_steps\u001b[39m\u001b[38;5;124m\"\u001b[39m)\n\u001b[1;32m     71\u001b[0m     \u001b[38;5;129;01mand\u001b[39;00m dummy_env\u001b[38;5;241m.\u001b[39mspec\u001b[38;5;241m.\u001b[39mmax_episode_steps \u001b[38;5;129;01mis\u001b[39;00m \u001b[38;5;129;01mnot\u001b[39;00m \u001b[38;5;28;01mNone\u001b[39;00m\n\u001b[1;32m     72\u001b[0m ), \u001b[38;5;124m\"\u001b[39m\u001b[38;5;124mOnly allowing gym envs with time limit (spec.max_episode_steps).\u001b[39m\u001b[38;5;124m\"\u001b[39m\n\u001b[1;32m     73\u001b[0m env \u001b[38;5;241m=\u001b[39m ResetDoneVecWrapper(\n\u001b[0;32m---> 74\u001b[0m     \u001b[43mAsyncVectorEnv\u001b[49m\u001b[43m(\u001b[49m\n\u001b[1;32m     75\u001b[0m \u001b[43m        \u001b[49m\u001b[43m[\u001b[49m\u001b[38;5;28;43;01mlambda\u001b[39;49;00m\u001b[43m:\u001b[49m\u001b[43m \u001b[49m\u001b[43mResetDoneWrapper\u001b[49m\u001b[43m(\u001b[49m\u001b[43mgym\u001b[49m\u001b[38;5;241;43m.\u001b[39;49m\u001b[43mmake\u001b[49m\u001b[43m(\u001b[49m\u001b[43menv_name\u001b[49m\u001b[43m)\u001b[49m\u001b[43m)\u001b[49m\u001b[43m]\u001b[49m\u001b[43m \u001b[49m\u001b[38;5;241;43m*\u001b[39;49m\u001b[43m \u001b[49m\u001b[43mnum_envs\u001b[49m\u001b[43m,\u001b[49m\n\u001b[1;32m     76\u001b[0m \u001b[43m        \u001b[49m\u001b[43mworker\u001b[49m\u001b[38;5;241;43m=\u001b[39;49m\u001b[43m_worker_shared_memory_no_auto_reset\u001b[49m\u001b[43m,\u001b[49m\n\u001b[1;32m     77\u001b[0m \u001b[43m    \u001b[49m\u001b[43m)\u001b[49m\n\u001b[1;32m     78\u001b[0m )\n\u001b[1;32m     79\u001b[0m env\u001b[38;5;241m.\u001b[39m_spec \u001b[38;5;241m=\u001b[39m dummy_env\u001b[38;5;241m.\u001b[39mspec\n\u001b[1;32m     80\u001b[0m max_episode_steps \u001b[38;5;241m=\u001b[39m dummy_env\u001b[38;5;241m.\u001b[39mspec\u001b[38;5;241m.\u001b[39mmax_episode_steps\n",
      "File \u001b[0;32m~/opt/anaconda3/envs/xpag_env/lib/python3.9/site-packages/gym/vector/async_vector_env.py:193\u001b[0m, in \u001b[0;36mAsyncVectorEnv.__init__\u001b[0;34m(self, env_fns, observation_space, action_space, shared_memory, copy, context, daemon, worker)\u001b[0m\n\u001b[1;32m    190\u001b[0m         child_pipe\u001b[38;5;241m.\u001b[39mclose()\n\u001b[1;32m    192\u001b[0m \u001b[38;5;28mself\u001b[39m\u001b[38;5;241m.\u001b[39m_state \u001b[38;5;241m=\u001b[39m AsyncState\u001b[38;5;241m.\u001b[39mDEFAULT\n\u001b[0;32m--> 193\u001b[0m \u001b[38;5;28;43mself\u001b[39;49m\u001b[38;5;241;43m.\u001b[39;49m\u001b[43m_check_spaces\u001b[49m\u001b[43m(\u001b[49m\u001b[43m)\u001b[49m\n",
      "File \u001b[0;32m~/opt/anaconda3/envs/xpag_env/lib/python3.9/site-packages/gym/vector/async_vector_env.py:589\u001b[0m, in \u001b[0;36mAsyncVectorEnv._check_spaces\u001b[0;34m(self)\u001b[0m\n\u001b[1;32m    587\u001b[0m \u001b[38;5;28;01mfor\u001b[39;00m pipe \u001b[38;5;129;01min\u001b[39;00m \u001b[38;5;28mself\u001b[39m\u001b[38;5;241m.\u001b[39mparent_pipes:\n\u001b[1;32m    588\u001b[0m     pipe\u001b[38;5;241m.\u001b[39msend((\u001b[38;5;124m\"\u001b[39m\u001b[38;5;124m_check_spaces\u001b[39m\u001b[38;5;124m\"\u001b[39m, spaces))\n\u001b[0;32m--> 589\u001b[0m results, successes \u001b[38;5;241m=\u001b[39m \u001b[38;5;28mzip\u001b[39m(\u001b[38;5;241m*\u001b[39m[pipe\u001b[38;5;241m.\u001b[39mrecv() \u001b[38;5;28;01mfor\u001b[39;00m pipe \u001b[38;5;129;01min\u001b[39;00m \u001b[38;5;28mself\u001b[39m\u001b[38;5;241m.\u001b[39mparent_pipes])\n\u001b[1;32m    590\u001b[0m \u001b[38;5;28mself\u001b[39m\u001b[38;5;241m.\u001b[39m_raise_if_errors(successes)\n\u001b[1;32m    591\u001b[0m same_observation_spaces, same_action_spaces \u001b[38;5;241m=\u001b[39m \u001b[38;5;28mzip\u001b[39m(\u001b[38;5;241m*\u001b[39mresults)\n",
      "File \u001b[0;32m~/opt/anaconda3/envs/xpag_env/lib/python3.9/site-packages/gym/vector/async_vector_env.py:589\u001b[0m, in \u001b[0;36m<listcomp>\u001b[0;34m(.0)\u001b[0m\n\u001b[1;32m    587\u001b[0m \u001b[38;5;28;01mfor\u001b[39;00m pipe \u001b[38;5;129;01min\u001b[39;00m \u001b[38;5;28mself\u001b[39m\u001b[38;5;241m.\u001b[39mparent_pipes:\n\u001b[1;32m    588\u001b[0m     pipe\u001b[38;5;241m.\u001b[39msend((\u001b[38;5;124m\"\u001b[39m\u001b[38;5;124m_check_spaces\u001b[39m\u001b[38;5;124m\"\u001b[39m, spaces))\n\u001b[0;32m--> 589\u001b[0m results, successes \u001b[38;5;241m=\u001b[39m \u001b[38;5;28mzip\u001b[39m(\u001b[38;5;241m*\u001b[39m[\u001b[43mpipe\u001b[49m\u001b[38;5;241;43m.\u001b[39;49m\u001b[43mrecv\u001b[49m\u001b[43m(\u001b[49m\u001b[43m)\u001b[49m \u001b[38;5;28;01mfor\u001b[39;00m pipe \u001b[38;5;129;01min\u001b[39;00m \u001b[38;5;28mself\u001b[39m\u001b[38;5;241m.\u001b[39mparent_pipes])\n\u001b[1;32m    590\u001b[0m \u001b[38;5;28mself\u001b[39m\u001b[38;5;241m.\u001b[39m_raise_if_errors(successes)\n\u001b[1;32m    591\u001b[0m same_observation_spaces, same_action_spaces \u001b[38;5;241m=\u001b[39m \u001b[38;5;28mzip\u001b[39m(\u001b[38;5;241m*\u001b[39mresults)\n",
      "File \u001b[0;32m~/opt/anaconda3/envs/xpag_env/lib/python3.9/multiprocessing/connection.py:255\u001b[0m, in \u001b[0;36m_ConnectionBase.recv\u001b[0;34m(self)\u001b[0m\n\u001b[1;32m    253\u001b[0m \u001b[38;5;28mself\u001b[39m\u001b[38;5;241m.\u001b[39m_check_closed()\n\u001b[1;32m    254\u001b[0m \u001b[38;5;28mself\u001b[39m\u001b[38;5;241m.\u001b[39m_check_readable()\n\u001b[0;32m--> 255\u001b[0m buf \u001b[38;5;241m=\u001b[39m \u001b[38;5;28;43mself\u001b[39;49m\u001b[38;5;241;43m.\u001b[39;49m\u001b[43m_recv_bytes\u001b[49m\u001b[43m(\u001b[49m\u001b[43m)\u001b[49m\n\u001b[1;32m    256\u001b[0m \u001b[38;5;28;01mreturn\u001b[39;00m _ForkingPickler\u001b[38;5;241m.\u001b[39mloads(buf\u001b[38;5;241m.\u001b[39mgetbuffer())\n",
      "File \u001b[0;32m~/opt/anaconda3/envs/xpag_env/lib/python3.9/multiprocessing/connection.py:419\u001b[0m, in \u001b[0;36mConnection._recv_bytes\u001b[0;34m(self, maxsize)\u001b[0m\n\u001b[1;32m    418\u001b[0m \u001b[38;5;28;01mdef\u001b[39;00m \u001b[38;5;21m_recv_bytes\u001b[39m(\u001b[38;5;28mself\u001b[39m, maxsize\u001b[38;5;241m=\u001b[39m\u001b[38;5;28;01mNone\u001b[39;00m):\n\u001b[0;32m--> 419\u001b[0m     buf \u001b[38;5;241m=\u001b[39m \u001b[38;5;28;43mself\u001b[39;49m\u001b[38;5;241;43m.\u001b[39;49m\u001b[43m_recv\u001b[49m\u001b[43m(\u001b[49m\u001b[38;5;241;43m4\u001b[39;49m\u001b[43m)\u001b[49m\n\u001b[1;32m    420\u001b[0m     size, \u001b[38;5;241m=\u001b[39m struct\u001b[38;5;241m.\u001b[39munpack(\u001b[38;5;124m\"\u001b[39m\u001b[38;5;124m!i\u001b[39m\u001b[38;5;124m\"\u001b[39m, buf\u001b[38;5;241m.\u001b[39mgetvalue())\n\u001b[1;32m    421\u001b[0m     \u001b[38;5;28;01mif\u001b[39;00m size \u001b[38;5;241m==\u001b[39m \u001b[38;5;241m-\u001b[39m\u001b[38;5;241m1\u001b[39m:\n",
      "File \u001b[0;32m~/opt/anaconda3/envs/xpag_env/lib/python3.9/multiprocessing/connection.py:388\u001b[0m, in \u001b[0;36mConnection._recv\u001b[0;34m(self, size, read)\u001b[0m\n\u001b[1;32m    386\u001b[0m \u001b[38;5;28;01mif\u001b[39;00m n \u001b[38;5;241m==\u001b[39m \u001b[38;5;241m0\u001b[39m:\n\u001b[1;32m    387\u001b[0m     \u001b[38;5;28;01mif\u001b[39;00m remaining \u001b[38;5;241m==\u001b[39m size:\n\u001b[0;32m--> 388\u001b[0m         \u001b[38;5;28;01mraise\u001b[39;00m \u001b[38;5;167;01mEOFError\u001b[39;00m\n\u001b[1;32m    389\u001b[0m     \u001b[38;5;28;01melse\u001b[39;00m:\n\u001b[1;32m    390\u001b[0m         \u001b[38;5;28;01mraise\u001b[39;00m \u001b[38;5;167;01mOSError\u001b[39;00m(\u001b[38;5;124m\"\u001b[39m\u001b[38;5;124mgot end of file during message\u001b[39m\u001b[38;5;124m\"\u001b[39m)\n",
      "\u001b[0;31mEOFError\u001b[0m: "
     ]
    }
   ],
   "source": [
    "num_envs = 1  # the number of rollouts in parallel during training\n",
    "env, eval_env, env_info = gym_vec_env('DubinsMazeEnv-v0', num_envs)"
   ]
  },
  {
   "cell_type": "code",
   "execution_count": 10,
   "id": "d075c278",
   "metadata": {},
   "outputs": [
    {
     "data": {
      "text/plain": [
       "<ResetDoneVecWrapper<AsyncVectorEnv instance>>"
      ]
     },
     "execution_count": 10,
     "metadata": {},
     "output_type": "execute_result"
    }
   ],
   "source": [
    "env"
   ]
  },
  {
   "cell_type": "code",
   "execution_count": 20,
   "id": "5dd82214",
   "metadata": {},
   "outputs": [],
   "source": [
    "env_info = {}\n",
    "env_info['observation_dim'] = 3\n",
    "env_info['desired_goal_dim'] = 2\n",
    "env_info['action_dim'] = 1\n",
    "env_info['max_episode_steps'] = 20\n",
    "env_info['is_goalenv'] = True"
   ]
  },
  {
   "cell_type": "code",
   "execution_count": 21,
   "id": "5d98da5e",
   "metadata": {},
   "outputs": [],
   "source": [
    "agent = SAC(\n",
    "    env_info['observation_dim'] if not env_info['is_goalenv']\n",
    "    else env_info['observation_dim'] + env_info['desired_goal_dim'],\n",
    "    env_info['action_dim'],\n",
    "    {}\n",
    ")"
   ]
  },
  {
   "cell_type": "code",
   "execution_count": 22,
   "id": "34cda079",
   "metadata": {},
   "outputs": [],
   "source": [
    "sampler =  HER(test_env.compute_reward)"
   ]
  },
  {
   "cell_type": "code",
   "execution_count": 23,
   "id": "78df29cf",
   "metadata": {},
   "outputs": [],
   "source": [
    "buffer = DefaultEpisodicBuffer(\n",
    "    max_episode_steps=env_info['max_episode_steps'],\n",
    "    buffer_size=1_000_000,\n",
    "    sampler=sampler\n",
    ")"
   ]
  },
  {
   "cell_type": "code",
   "execution_count": 12,
   "id": "de1a6113",
   "metadata": {},
   "outputs": [],
   "source": [
    "L_states = [np.array([0.5, 0.5, 0.]), np.array([1.8, 1., np.pi/2]), np.array([0.5, 1.8, np.pi])]\n",
    "L_full_demonstration = [np.array([0.5, 0.5, 0.]), np.array([1.8, 1., np.pi/2]), np.array([0.5, 1.8, np.pi])]\n",
    "L_full_inner_demonstration = copy.deepcopy(L_states)\n",
    "L_goals = [state[:2] for state in L_states]\n",
    "L_inner_states = copy.deepcopy(L_states)\n",
    "L_budgets = [15, 15]"
   ]
  },
  {
   "cell_type": "code",
   "execution_count": 13,
   "id": "c4350e3a",
   "metadata": {},
   "outputs": [
    {
     "name": "stdout",
     "output_type": "stream",
     "text": [
      "MAZE setting random seed  0\n"
     ]
    }
   ],
   "source": [
    "test_env = gym.make('DubinsMazeEnvGCPHERSB3-v0', L_full_demonstration = L_full_demonstration,\n",
    "                                  L_states =  L_states,\n",
    "                                  L_goals =  L_goals,\n",
    "                                  L_inner_states =  L_inner_states,\n",
    "                                  L_budgets =  L_budgets)"
   ]
  },
  {
   "cell_type": "code",
   "execution_count": null,
   "id": "de5682d8",
   "metadata": {},
   "outputs": [],
   "source": [
    "test_env.reset()"
   ]
  }
 ],
 "metadata": {
  "kernelspec": {
   "display_name": "Python 3 (ipykernel)",
   "language": "python",
   "name": "python3"
  },
  "language_info": {
   "codemirror_mode": {
    "name": "ipython",
    "version": 3
   },
   "file_extension": ".py",
   "mimetype": "text/x-python",
   "name": "python",
   "nbconvert_exporter": "python",
   "pygments_lexer": "ipython3",
   "version": "3.9.7"
  }
 },
 "nbformat": 4,
 "nbformat_minor": 5
}
